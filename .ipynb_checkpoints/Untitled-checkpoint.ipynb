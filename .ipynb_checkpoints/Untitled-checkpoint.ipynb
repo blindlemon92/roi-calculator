{
 "cells": [
  {
   "cell_type": "code",
   "execution_count": 1,
   "id": "cadda478",
   "metadata": {},
   "outputs": [
    {
     "name": "stdout",
     "output_type": "stream",
     "text": [
      "How much would you estimate the potential monthly rental income would be? 2000\n",
      "Enter montly taxes. 150\n",
      "Enter monthly insurance premiums. 100\n",
      "Please enter the sum of all monthly utilities. 0\n",
      "Please enter any costs incurred do to vacancy. 100\n",
      "Please enter the cost of any necesessary repairs. 100\n",
      "Enter any funds reserved on a monthly basis for capitol expenses. 100\n",
      "Enter any management fees associated with this property. 200\n",
      "What is the cost of the monthly mortgage? 860\n",
      "Enter the downpayment on this property. 40000\n",
      "Enter closing costs associated with the transaction. 3000\n",
      "Enter rehabing cost total. 7000\n",
      "Enter misc fee total. 0\n",
      "\n",
      "9.36\n"
     ]
    }
   ],
   "source": [
    "# Please restict inputs to valid intergers. If the answer is no or the total being asked is zero, please enter '0'\n",
    "\n",
    "class calculator():\n",
    "\n",
    "    def __init__(self, income=0, expenses=0, flow=0, total=0, answer =0):\n",
    "        self.self = self\n",
    "        self.income = income\n",
    "        self.expenses = expenses\n",
    "        self.flow = flow\n",
    "        self.total = total\n",
    "        self.answer = answer\n",
    "        \n",
    "\n",
    "    def income_cal(self, income=0):\n",
    "        income = input(\"How much would you estimate the potential monthly rental income would be? \")\n",
    "        self.income = int(income)\n",
    "    def exp_report(self, expenses=0):\n",
    "        taxes = input(\"Enter montly taxes. \")\n",
    "        expenses = int(taxes)\n",
    "        insurance = input(\"Enter monthly insurance premiums. \")\n",
    "        expenses += int(insurance)\n",
    "        utilities = input(\"Please enter the sum of all monthly utilities. \")\n",
    "        expenses += int(utilities)\n",
    "        vacancy = input(\"Please enter any costs incurred do to vacancy. \")\n",
    "        expenses += int(vacancy)\n",
    "        repairs = input(\"Please enter the cost of any necesessary repairs. \")\n",
    "        expenses += int(repairs)\n",
    "        cap_ex = input(\"Enter any funds reserved on a monthly basis for capitol expenses. \")\n",
    "        expenses += int(cap_ex)\n",
    "        management = input(\"Enter any management fees associated with this property. \")\n",
    "        expenses += int(management)\n",
    "        mortgage = input(\"What is the cost of the monthly mortgage? \")\n",
    "        expenses += int(mortgage)\n",
    "        self.expenses = expenses\n",
    " \n",
    "\n",
    "    def cash_flow(self):\n",
    "        self.flow = (self.income - self.expenses) * 12\n",
    "    \n",
    "    def cash_cash(self, total=0):\n",
    "        d_p = input(\"Enter the downpayment on this property. \")\n",
    "        self.total = int(d_p)\n",
    "        close = input(\"Enter closing costs associated with the transaction. \")\n",
    "        self.total += int(close)\n",
    "        rehab = input(\"Enter rehabing cost total. \")\n",
    "        self.total += int(rehab)\n",
    "        misc = input(\"Enter misc fee total. \")\n",
    "        self.total += int(misc)\n",
    "        \n",
    "    def roi(self, answer=0):\n",
    "        self.answer = (self.flow / self.total) * 100\n",
    "        print(f'\\n{self.answer}')\n",
    "\n",
    "house = calculator()\n",
    "\n",
    "def run():\n",
    "        house.income_cal()\n",
    "        house.exp_report()\n",
    "        house.cash_flow()\n",
    "        house.cash_cash()    \n",
    "        house.roi()\n",
    "               \n",
    "run()\n",
    "    "
   ]
  },
  {
   "cell_type": "code",
   "execution_count": null,
   "id": "7993bb6e",
   "metadata": {},
   "outputs": [],
   "source": []
  }
 ],
 "metadata": {
  "kernelspec": {
   "display_name": "Python 3 (ipykernel)",
   "language": "python",
   "name": "python3"
  },
  "language_info": {
   "codemirror_mode": {
    "name": "ipython",
    "version": 3
   },
   "file_extension": ".py",
   "mimetype": "text/x-python",
   "name": "python",
   "nbconvert_exporter": "python",
   "pygments_lexer": "ipython3",
   "version": "3.9.13"
  }
 },
 "nbformat": 4,
 "nbformat_minor": 5
}
